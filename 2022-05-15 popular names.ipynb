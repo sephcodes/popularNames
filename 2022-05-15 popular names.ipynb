{
 "cells": [
  {
   "cell_type": "code",
   "execution_count": 26,
   "metadata": {
    "scrolled": true
   },
   "outputs": [
    {
     "name": "stdout",
     "output_type": "stream",
     "text": [
      "['Olivia', 'Emma', 'Charlotte', 'Amelia', 'Ava', 'Liam', 'Noah', 'Oliver', 'Elijah', 'James', 'Sophia', 'William', 'Isabella', 'Logan', 'Mason', 'Jacob', 'Ethan', 'Jayden', 'Michael', 'Alexander', 'Emily', 'Joshua', 'Daniel', 'Madison', 'Matthew', 'Abigail', 'Hannah', 'Andrew', 'Alexis', 'Ashley', 'Christopher', 'Sarah', 'Samantha', 'Nicholas', 'Jessica', 'Tyler', 'Amanda', 'Brittany', 'David', 'Jennifer', 'Melissa', 'Jason', 'Amy', 'Heather', 'Angela', 'Michelle', 'Kimberly', 'Lisa', 'John', 'Robert', 'Mary', 'Susan', 'Karen', 'Patricia', 'Linda', 'Donna', 'Debra', 'Deborah', 'Barbara', 'Sandra', 'Richard', 'Carol', 'Judith', 'Betty', 'Shirley', 'Dorothy', 'Joan', 'Helen', 'Margaret', 'Charles', 'Ruth']\n",
      "[2021, 2020, 2019, 2018, 2017, 2016, 2015, 2014, 2013, 2012, 2011, 2010, 2009, 2008, 2007, 2006, 2005, 2004, 2003, 2002, 2001, 2000, 1999, 1998, 1997, 1996, 1995, 1994, 1993, 1992, 1991, 1990, 1989, 1988, 1987, 1986, 1985, 1984, 1983, 1982, 1981, 1980, 1979, 1978, 1977, 1976, 1975, 1974, 1973, 1972, 1971, 1970, 1969, 1968, 1967, 1966, 1965, 1964, 1963, 1962, 1961, 1960, 1959, 1958, 1957, 1956, 1955, 1954, 1953, 1952, 1951, 1950, 1949, 1948, 1947, 1946, 1945, 1944, 1943, 1942, 1941, 1940, 1939, 1938, 1937, 1936, 1935, 1934, 1933, 1932, 1931, 1930, 1929, 1928, 1927, 1926, 1925, 1924, 1923, 1922]\n",
      "       Names  Years Rank  Gender\n",
      "0     Olivia   2021    1  Female\n",
      "1     Olivia   2020    1  Female\n",
      "2     Olivia   2019    1  Female\n",
      "3     Olivia   2018    2  Female\n",
      "4     Olivia   2017    2  Female\n",
      "...      ...    ...  ...     ...\n",
      "7095    Ruth   1926    6  Female\n",
      "7096    Ruth   1925    6  Female\n",
      "7097    Ruth   1924    6  Female\n",
      "7098    Ruth   1923    6  Female\n",
      "7099    Ruth   1922    5  Female\n",
      "\n",
      "[7100 rows x 4 columns]\n",
      "          Names  Years Rank  Gender\n",
      "0        Olivia   2021    1  Female\n",
      "100        Emma   2021    2  Female\n",
      "200   Charlotte   2021    3  Female\n",
      "300      Amelia   2021    4  Female\n",
      "400         Ava   2021    5  Female\n",
      "...         ...    ...  ...     ...\n",
      "999       James   1922    4    Male\n",
      "1199    William   1922    3    Male\n",
      "4899       John   1922    1    Male\n",
      "4999     Robert   1922    2    Male\n",
      "6999    Charles   1922    5    Male\n",
      "\n",
      "[1000 rows x 4 columns]\n"
     ]
    }
   ],
   "source": [
    "import pandas as pd\n",
    "import plotly.express as px\n",
    "\n",
    "df = pd.read_excel (r'C:\\Users\\yawad\\Documents\\names.xlsx', sheet_name='Sheet6')\n",
    "#print (df)\n",
    "\n",
    "names = list(df.iloc[:, 0])\n",
    "print (names)\n",
    "years = list(df.head().columns)\n",
    "years.remove('Year')\n",
    "print (years)\n",
    "\n",
    "import itertools\n",
    "\n",
    "example = pd.DataFrame(list(itertools.product(names,years)), columns=['Names','Years'])\n",
    "example[\"Rank\"] = \"\"\n",
    "example[\"Gender\"] = \"\"\n",
    "l = 0\n",
    "\n",
    "for i in (names):\n",
    "    for j in (years):\n",
    "        if i in ['Olivia', 'Emma', 'Charlotte', 'Amelia', 'Ava', 'Sophia', 'Isabella', 'Emily', 'Madison', 'Abigail', \n",
    "             'Hannah', 'Alexis', 'Ashley', 'Alexis', 'Ashley', 'Sarah', 'Samantha', 'Jessica', 'Amanda', 'Brittany', \n",
    "             'Jennifer', 'Melissa', 'Amy', 'Heather', 'Angela', 'Michelle', 'Kimberly', 'Lisa', 'Mary', 'Susan',\n",
    "             'Karen', 'Patricia', 'Linda', 'Donna', 'Debra', 'Deborah', 'Barbara', 'Sandra', 'Carol', 'Judith', 'Betty',\n",
    "             'Shirley', 'Dorothy', 'Joan', 'Helen', 'Margaret', 'Ruth']:\n",
    "            gender = \"Female\"\n",
    "        else:\n",
    "            gender = \"Male\"\n",
    "        example.at[l, 'Gender']=gender\n",
    "        example.at[l, 'Rank']=df.iloc[names.index(i),years.index(j)+1]\n",
    "        l+=1\n",
    "print (example)\n",
    "example = example.loc[example[\"Rank\"] != 6]\n",
    "example = example.sort_values(by = ['Gender', 'Years'], ascending = [True, False])\n",
    "print (example)\n",
    "\n",
    "fig = px.histogram(example, x=example.Names, y=example.Rank, animation_frame=example.Years, range_y=[0,6],\n",
    "                   color=\"Gender\")\n",
    "fig.write_html(\"C:/Users/yawad/Documents/file.html\")"
   ]
  }
 ],
 "metadata": {
  "kernelspec": {
   "display_name": "Python 3",
   "language": "python",
   "name": "python3"
  },
  "language_info": {
   "codemirror_mode": {
    "name": "ipython",
    "version": 3
   },
   "file_extension": ".py",
   "mimetype": "text/x-python",
   "name": "python",
   "nbconvert_exporter": "python",
   "pygments_lexer": "ipython3",
   "version": "3.8.3"
  }
 },
 "nbformat": 4,
 "nbformat_minor": 4
}
